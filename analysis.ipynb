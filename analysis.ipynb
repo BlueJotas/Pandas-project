{
 "cells": [
  {
   "cell_type": "code",
   "execution_count": 70,
   "metadata": {},
   "outputs": [],
   "source": [
    "import pandas as pd\n",
    "import numpy as np\n",
    "import regex as re\n",
    "import seaborn as sns"
   ]
  },
  {
   "cell_type": "code",
   "execution_count": 72,
   "metadata": {},
   "outputs": [
    {
     "name": "stdout",
     "output_type": "stream",
     "text": [
      "README.md         attacks.csv       clean.ipynb\r\n",
      "analysis.ipynb    attacks_clean.csv\r\n"
     ]
    }
   ],
   "source": [
    "!ls"
   ]
  },
  {
   "cell_type": "code",
   "execution_count": 73,
   "metadata": {},
   "outputs": [],
   "source": [
    "file = '../Pandas-project/attacks_clean.csv'\n",
    "df = pd.read_csv(file, index_col=0)"
   ]
  },
  {
   "cell_type": "code",
   "execution_count": 79,
   "metadata": {},
   "outputs": [
    {
     "data": {
      "text/html": [
       "<div>\n",
       "<style scoped>\n",
       "    .dataframe tbody tr th:only-of-type {\n",
       "        vertical-align: middle;\n",
       "    }\n",
       "\n",
       "    .dataframe tbody tr th {\n",
       "        vertical-align: top;\n",
       "    }\n",
       "\n",
       "    .dataframe thead th {\n",
       "        text-align: right;\n",
       "    }\n",
       "</style>\n",
       "<table border=\"1\" class=\"dataframe\">\n",
       "  <thead>\n",
       "    <tr style=\"text-align: right;\">\n",
       "      <th></th>\n",
       "      <th>Date</th>\n",
       "      <th>Year</th>\n",
       "      <th>Type</th>\n",
       "      <th>Country</th>\n",
       "      <th>Area</th>\n",
       "      <th>Location</th>\n",
       "      <th>Activity</th>\n",
       "      <th>Name</th>\n",
       "      <th>Sex</th>\n",
       "      <th>Age</th>\n",
       "      <th>Injury</th>\n",
       "      <th>Fatal (Y/N)</th>\n",
       "      <th>Time</th>\n",
       "      <th>Species</th>\n",
       "      <th>Investigator or Source</th>\n",
       "      <th>pdf</th>\n",
       "      <th>href</th>\n",
       "      <th>Case Number.1</th>\n",
       "      <th>original order</th>\n",
       "    </tr>\n",
       "  </thead>\n",
       "  <tbody>\n",
       "    <tr>\n",
       "      <th>2333</th>\n",
       "      <td>Reported 28-Oct-1995</td>\n",
       "      <td>1995.0</td>\n",
       "      <td>Unprovoked</td>\n",
       "      <td>USA</td>\n",
       "      <td>Florida</td>\n",
       "      <td>-</td>\n",
       "      <td>Boogie boarding</td>\n",
       "      <td>Matthew Beyrer</td>\n",
       "      <td>M</td>\n",
       "      <td>13</td>\n",
       "      <td>Lacerations to right foot</td>\n",
       "      <td>N</td>\n",
       "      <td>-</td>\n",
       "      <td>-</td>\n",
       "      <td>Flagler/Palm Coast News Tribune, 10/28/1995</td>\n",
       "      <td>1995.10.28.R-Beyrer.pdf</td>\n",
       "      <td>http://sharkattackfile.net/spreadsheets/pdf_di...</td>\n",
       "      <td>1995.10.28.R</td>\n",
       "      <td>3970.0</td>\n",
       "    </tr>\n",
       "    <tr>\n",
       "      <th>2721</th>\n",
       "      <td>23-Jul-1988</td>\n",
       "      <td>1988.0</td>\n",
       "      <td>Unprovoked</td>\n",
       "      <td>BAHAMAS</td>\n",
       "      <td>-</td>\n",
       "      <td>-</td>\n",
       "      <td>Free diving &amp; spearfishing</td>\n",
       "      <td>Kenny Isham</td>\n",
       "      <td>M</td>\n",
       "      <td>-</td>\n",
       "      <td>Hand bitten</td>\n",
       "      <td>N</td>\n",
       "      <td>-</td>\n",
       "      <td>2 m to 2.5 m shark</td>\n",
       "      <td>E. Pace, FSAF</td>\n",
       "      <td>1988.07.23-Isham.pdf</td>\n",
       "      <td>http://sharkattackfile.net/spreadsheets/pdf_di...</td>\n",
       "      <td>1988.07.23</td>\n",
       "      <td>3582.0</td>\n",
       "    </tr>\n",
       "    <tr>\n",
       "      <th>2485</th>\n",
       "      <td>Aug-1993</td>\n",
       "      <td>1993.0</td>\n",
       "      <td>Boat</td>\n",
       "      <td>EL SALVADOR</td>\n",
       "      <td>La Libertad</td>\n",
       "      <td>La Libertad</td>\n",
       "      <td>Oyster fishing</td>\n",
       "      <td>boat, occupants: 2 men</td>\n",
       "      <td>-</td>\n",
       "      <td>-</td>\n",
       "      <td>FATAL x 2</td>\n",
       "      <td>Y</td>\n",
       "      <td>-</td>\n",
       "      <td>White shark?</td>\n",
       "      <td>Tampa Tribune, 9/18/1993</td>\n",
       "      <td>1993.08.00.a-El-Salvador.pdf</td>\n",
       "      <td>http://sharkattackfile.net/spreadsheets/pdf_di...</td>\n",
       "      <td>1993.08.00.a</td>\n",
       "      <td>3818.0</td>\n",
       "    </tr>\n",
       "    <tr>\n",
       "      <th>4395</th>\n",
       "      <td>21-Dec-1952</td>\n",
       "      <td>1952.0</td>\n",
       "      <td>Unprovoked</td>\n",
       "      <td>AUSTRALIA</td>\n",
       "      <td>South Australia</td>\n",
       "      <td>Cape Douglas</td>\n",
       "      <td>Fishing, setting nets</td>\n",
       "      <td>John Holmes</td>\n",
       "      <td>M</td>\n",
       "      <td>25</td>\n",
       "      <td>Bitten on thigh and buttocks</td>\n",
       "      <td>N</td>\n",
       "      <td>\"After dark\"</td>\n",
       "      <td>2.4 m [8'] shark</td>\n",
       "      <td>V.M. Coppleson (1958), p.178; V.M. Coppleson (...</td>\n",
       "      <td>1952.12.21-Holmes.pdf</td>\n",
       "      <td>http://sharkattackfile.net/spreadsheets/pdf_di...</td>\n",
       "      <td>1952.12.21</td>\n",
       "      <td>1908.0</td>\n",
       "    </tr>\n",
       "    <tr>\n",
       "      <th>1126</th>\n",
       "      <td>16-May-2009</td>\n",
       "      <td>2009.0</td>\n",
       "      <td>Unprovoked</td>\n",
       "      <td>USA</td>\n",
       "      <td>Florida</td>\n",
       "      <td>New Smyrna Beach, Volusia County</td>\n",
       "      <td>Surfing</td>\n",
       "      <td>Bryan Heath</td>\n",
       "      <td>M</td>\n",
       "      <td>49</td>\n",
       "      <td>Lacerations to right foot</td>\n",
       "      <td>N</td>\n",
       "      <td>10h27</td>\n",
       "      <td>blacktip or spinner shark</td>\n",
       "      <td>S. Petersohn, GSAF</td>\n",
       "      <td>2009.05.16.b-Heath.pdf</td>\n",
       "      <td>http://sharkattackfile.net/spreadsheets/pdf_di...</td>\n",
       "      <td>2009.05.16.b</td>\n",
       "      <td>5177.0</td>\n",
       "    </tr>\n",
       "  </tbody>\n",
       "</table>\n",
       "</div>"
      ],
      "text/plain": [
       "                      Date    Year        Type      Country             Area  \\\n",
       "2333  Reported 28-Oct-1995  1995.0  Unprovoked          USA          Florida   \n",
       "2721           23-Jul-1988  1988.0  Unprovoked      BAHAMAS                -   \n",
       "2485              Aug-1993  1993.0        Boat  EL SALVADOR      La Libertad   \n",
       "4395           21-Dec-1952  1952.0  Unprovoked    AUSTRALIA  South Australia   \n",
       "1126           16-May-2009  2009.0  Unprovoked          USA          Florida   \n",
       "\n",
       "                              Location                     Activity  \\\n",
       "2333                                 -              Boogie boarding   \n",
       "2721                                 -  Free diving & spearfishing    \n",
       "2485                       La Libertad               Oyster fishing   \n",
       "4395                      Cape Douglas        Fishing, setting nets   \n",
       "1126  New Smyrna Beach, Volusia County                      Surfing   \n",
       "\n",
       "                        Name Sex  Age                        Injury  \\\n",
       "2333          Matthew Beyrer    M  13     Lacerations to right foot   \n",
       "2721             Kenny Isham    M   -                   Hand bitten   \n",
       "2485  boat, occupants: 2 men    -   -                     FATAL x 2   \n",
       "4395             John Holmes    M  25  Bitten on thigh and buttocks   \n",
       "1126             Bryan Heath    M  49     Lacerations to right foot   \n",
       "\n",
       "     Fatal (Y/N)          Time                   Species   \\\n",
       "2333           N             -                          -   \n",
       "2721           N             -         2 m to 2.5 m shark   \n",
       "2485           Y             -               White shark?   \n",
       "4395           N  \"After dark\"           2.4 m [8'] shark   \n",
       "1126           N         10h27  blacktip or spinner shark   \n",
       "\n",
       "                                 Investigator or Source  \\\n",
       "2333        Flagler/Palm Coast News Tribune, 10/28/1995   \n",
       "2721                                      E. Pace, FSAF   \n",
       "2485                           Tampa Tribune, 9/18/1993   \n",
       "4395  V.M. Coppleson (1958), p.178; V.M. Coppleson (...   \n",
       "1126                                 S. Petersohn, GSAF   \n",
       "\n",
       "                               pdf  \\\n",
       "2333       1995.10.28.R-Beyrer.pdf   \n",
       "2721          1988.07.23-Isham.pdf   \n",
       "2485  1993.08.00.a-El-Salvador.pdf   \n",
       "4395         1952.12.21-Holmes.pdf   \n",
       "1126        2009.05.16.b-Heath.pdf   \n",
       "\n",
       "                                                   href Case Number.1  \\\n",
       "2333  http://sharkattackfile.net/spreadsheets/pdf_di...  1995.10.28.R   \n",
       "2721  http://sharkattackfile.net/spreadsheets/pdf_di...    1988.07.23   \n",
       "2485  http://sharkattackfile.net/spreadsheets/pdf_di...  1993.08.00.a   \n",
       "4395  http://sharkattackfile.net/spreadsheets/pdf_di...    1952.12.21   \n",
       "1126  http://sharkattackfile.net/spreadsheets/pdf_di...  2009.05.16.b   \n",
       "\n",
       "      original order  \n",
       "2333          3970.0  \n",
       "2721          3582.0  \n",
       "2485          3818.0  \n",
       "4395          1908.0  \n",
       "1126          5177.0  "
      ]
     },
     "execution_count": 79,
     "metadata": {},
     "output_type": "execute_result"
    }
   ],
   "source": [
    "df.sample(5)"
   ]
  },
  {
   "cell_type": "code",
   "execution_count": 84,
   "metadata": {},
   "outputs": [
    {
     "data": {
      "text/plain": [
       "Index(['Date', 'Year', 'Type', 'Country', 'Area', 'Location', 'Activity',\n",
       "       'Name', 'Sex', 'Age', 'Injury', 'Fatal (Y/N)', 'Time', 'Species',\n",
       "       'Investigator or Source', 'pdf', 'href', 'Case Number.1',\n",
       "       'original order'],\n",
       "      dtype='object')"
      ]
     },
     "execution_count": 84,
     "metadata": {},
     "output_type": "execute_result"
    }
   ],
   "source": [
    "# We print the columns to see the 'Species' column that has an space ' ' at the end of its name, so we were having\n",
    "# trouble to plot it.\n",
    "df.columns"
   ]
  },
  {
   "cell_type": "code",
   "execution_count": 171,
   "metadata": {},
   "outputs": [
    {
     "name": "stdout",
     "output_type": "stream",
     "text": [
      "-                                                     2845\n",
      "White shark                                            163\n",
      "Shark involvement prior to death was not confirmed     105\n",
      "Invalid                                                102\n",
      "Shark involvement not confirmed                         88\n",
      "Name: Species, dtype: int64\n",
      "\n",
      "_________________\n",
      "\n",
      "USA                 2229\n",
      "AUSTRALIA           1338\n",
      "SOUTH AFRICA         579\n",
      "PAPUA NEW GUINEA     134\n",
      "NEW ZEALAND          128\n",
      "BRAZIL               112\n",
      "BAHAMAS              109\n",
      "MEXICO                89\n",
      "ITALY                 71\n",
      "FIJI                  62\n",
      "Name: Country, dtype: int64\n",
      "\n",
      "_________________\n",
      "\n",
      "M    5094\n",
      "F     637\n",
      "Name: Sex, dtype: int64\n",
      "\n",
      "_________________\n",
      "\n",
      "-     2838\n",
      "17     154\n",
      "18     150\n",
      "19     142\n",
      "20     141\n",
      "15     139\n",
      "16     138\n",
      "21     119\n",
      "22     117\n",
      "25     108\n",
      "Name: Age, dtype: int64\n"
     ]
    }
   ],
   "source": [
    "# We rename the columns in order to make them ploatable.\n",
    "df = df.rename(columns={'Species ': 'Species'})\n",
    "df = df.rename(columns={'Sex ': 'Sex'})\n",
    "# And then we print the most repeated values in the columns of interest to see what we can understand with the info.\n",
    "print(df['Species'].value_counts()[:5])\n",
    "print('\\n_________________\\n')\n",
    "print(df['Country'].value_counts()[:10])\n",
    "print('\\n_________________\\n')\n",
    "print(df['Sex'].value_counts()[:2])\n",
    "print('\\n_________________\\n')\n",
    "print(df['Age'].value_counts()[:10])"
   ]
  },
  {
   "cell_type": "code",
   "execution_count": null,
   "metadata": {},
   "outputs": [],
   "source": [
    "# Our hypothesis is simple: We want to check if the most affected overall sex by the shark attacks \n",
    "# in the dataframe is male. We want to check if the top countries affected by these shark attacks \n",
    "# are from the Caribbean Sea and also if the top death rate filtered by age results to be a young one."
   ]
  },
  {
   "cell_type": "code",
   "execution_count": 166,
   "metadata": {
    "scrolled": true
   },
   "outputs": [
    {
     "data": {
      "text/plain": [
       "<AxesSubplot:>"
      ]
     },
     "execution_count": 166,
     "metadata": {},
     "output_type": "execute_result"
    },
    {
     "data": {
      "image/png": "[encoded data removed]",
      "text/plain": [
       "<Figure size 432x288 with 1 Axes>"
      ]
     },
     "metadata": {
      "needs_background": "light"
     },
     "output_type": "display_data"
    }
   ],
   "source": [
    "# We start to plot all the graphics that we need in order to analyze and visualize more clearly the data.\n",
    "count = df.value_counts(df['Sex'].values, sort=True)[:2]\n",
    "count.plot.barh()"
   ]
  },
  {
   "cell_type": "code",
   "execution_count": 167,
   "metadata": {},
   "outputs": [
    {
     "data": {
      "text/plain": [
       "<AxesSubplot:>"
      ]
     },
     "execution_count": 167,
     "metadata": {},
     "output_type": "execute_result"
    },
    {
     "data": {
      "image/png": "[encoded data removed]",
      "text/plain": [
       "<Figure size 432x288 with 1 Axes>"
      ]
     },
     "metadata": {
      "needs_background": "light"
     },
     "output_type": "display_data"
    }
   ],
   "source": [
    "count_1 = df.value_counts(df['Age'].values, sort=True)[:10]\n",
    "count_1.plot.barh()"
   ]
  },
  {
   "cell_type": "code",
   "execution_count": 168,
   "metadata": {
    "scrolled": true
   },
   "outputs": [
    {
     "data": {
      "text/plain": [
       "<AxesSubplot:>"
      ]
     },
     "execution_count": 168,
     "metadata": {},
     "output_type": "execute_result"
    },
    {
     "data": {
      "image/png": "[encoded data removed]",
      "text/plain": [
       "<Figure size 432x288 with 1 Axes>"
      ]
     },
     "metadata": {
      "needs_background": "light"
     },
     "output_type": "display_data"
    }
   ],
   "source": [
    "count_2 = df.value_counts(df['Country'].values, sort=True)[:10]\n",
    "count_2.plot.barh()"
   ]
  },
  {
   "cell_type": "code",
   "execution_count": null,
   "metadata": {},
   "outputs": [],
   "source": [
    "'''\n",
    "\n",
    "STORYTELLING/CONCLUSION:\n",
    "------------------------\n",
    "\n",
    "Once we've cleaned and explored this dataset, we come to some conclusions (guided by the data):\n",
    "\n",
    "- First, we observe that the sex most affected by the shark attacks is by a huge difference male\n",
    "(between 8 and 9 times bigger).\n",
    "\n",
    "- Secondly we can appreciate that this deaths occurred all over the world and not only in a particular continent or\n",
    "area. The country that registered the biggest number of attacks were USA (close to the Caribbean Sea), followed by Australia and South Africa.\n",
    "But there's a big difference between the number of attacks between those countries. A difference that grows smaller\n",
    "as we can see as the list goes on an shows countris with much more less registered attacks.\n",
    "\n",
    "- Third, we see that the most affected group of age were late teenagers, being them the top ages that suffered from\n",
    "this attacks. As we go down on the list we see suddenly that 15 and 16 years old people were less attacked than people\n",
    "one, two or even five years older, so we may conclude that the average of the people's age that does surf, swimming\n",
    "or fishing is young but not too young.\n",
    "\n",
    "'''"
   ]
  }
 ],
 "metadata": {
  "kernelspec": {
   "display_name": "Python 3",
   "language": "python",
   "name": "python3"
  },
  "language_info": {
   "codemirror_mode": {
    "name": "ipython",
    "version": 3
   },
   "file_extension": ".py",
   "mimetype": "text/x-python",
   "name": "python",
   "nbconvert_exporter": "python",
   "pygments_lexer": "ipython3",
   "version": "3.8.5"
  }
 },
 "nbformat": 4,
 "nbformat_minor": 4
}
